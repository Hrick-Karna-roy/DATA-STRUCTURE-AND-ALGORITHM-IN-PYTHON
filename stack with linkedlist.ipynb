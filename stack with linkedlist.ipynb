{
 "cells": [
  {
   "cell_type": "code",
   "execution_count": 7,
   "id": "73fff617",
   "metadata": {},
   "outputs": [
    {
     "name": "stdout",
     "output_type": "stream",
     "text": [
      "1\n",
      "3\n",
      "2\n",
      "1\n",
      "2\n",
      "1\n"
     ]
    }
   ],
   "source": [
    "class stack:\n",
    "    def __init__(self):\n",
    "        self.head = None\n",
    "        self.tail = None\n",
    "    def push(self,val):\n",
    "        node = Node(val)\n",
    "        node.next = self.head\n",
    "        self.head = node\n",
    "    def pop(self):\n",
    "        node = self.head\n",
    "        self.head = node.next\n",
    "    def printstack(self):\n",
    "        node = self.head\n",
    "        while node:\n",
    "            print(node.value)\n",
    "            node = node.next\n",
    "class Node:\n",
    "    def __init__(self,val):\n",
    "        self.value = val\n",
    "        self.next = None\n",
    "        \n",
    "costomstack = stack()\n",
    "costomstack.push(1)\n",
    "costomstack.printstack()\n",
    "costomstack.push(2)\n",
    "costomstack.push(3)\n",
    "costomstack.printstack()\n",
    "costomstack.pop()\n",
    "costomstack.printstack()"
   ]
  }
 ],
 "metadata": {
  "kernelspec": {
   "display_name": "Python 3 (ipykernel)",
   "language": "python",
   "name": "python3"
  },
  "language_info": {
   "codemirror_mode": {
    "name": "ipython",
    "version": 3
   },
   "file_extension": ".py",
   "mimetype": "text/x-python",
   "name": "python",
   "nbconvert_exporter": "python",
   "pygments_lexer": "ipython3",
   "version": "3.8.10"
  }
 },
 "nbformat": 4,
 "nbformat_minor": 5
}
