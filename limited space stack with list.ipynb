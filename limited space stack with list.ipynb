{
 "cells": [
  {
   "cell_type": "code",
   "execution_count": 20,
   "id": "ab83de0f",
   "metadata": {},
   "outputs": [
    {
     "name": "stdout",
     "output_type": "stream",
     "text": [
      "[1, 2, 3]\n",
      "[3, 2, 1]\n",
      "[1, 2]\n",
      "[2, 1]\n",
      "2\n",
      "[1, 2, 3, 4, 5]\n",
      "[5, 4, 3, 2, 1]\n",
      "the stack is full (overflow) \n"
     ]
    }
   ],
   "source": [
    "class stack:\n",
    "    \n",
    "    def __init__(self,maxlimit):\n",
    "        self.maxlimit = maxlimit\n",
    "        self.list = []\n",
    "    def __str__(self):\n",
    "        pass\n",
    "    def printstack(self):\n",
    "        print(self.list)\n",
    "        v = self.list[::-1]\n",
    "        print(v)\n",
    "    def isempty(self):\n",
    "        if self.list == []:\n",
    "            return True\n",
    "        else:\n",
    "            return False\n",
    "    def isfull(self):\n",
    "        if len(self.list) == self.maxlimit:\n",
    "            return True\n",
    "        else:\n",
    "            return False\n",
    "    def push(self,value):\n",
    "        if self.isfull():\n",
    "            return print(\"the stack is full (overflow) \")\n",
    "        else:\n",
    "            self.list.append(value)\n",
    "    def pop(self):\n",
    "        if self.isempty():\n",
    "            return print(\"the stack is already empty  (underflow) \")     #under flow\n",
    "        else:\n",
    "            self.list.pop()\n",
    "    \n",
    "    def peek(self):\n",
    "        if self.isempty():\n",
    "            return print(\"the stack is already empty\")\n",
    "        else:\n",
    "            return print(self.list[-1])\n",
    "costomstack = stack(5)\n",
    "costomstack.isempty()\n",
    "costomstack.isfull()\n",
    "costomstack.push(1)\n",
    "costomstack.push(2)\n",
    "costomstack.push(3)\n",
    "costomstack.printstack()\n",
    "costomstack.pop()\n",
    "costomstack.printstack()\n",
    "costomstack.peek()\n",
    "costomstack.push(3)\n",
    "costomstack.push(4)\n",
    "costomstack.push(5)\n",
    "costomstack.printstack()\n",
    "costomstack.push(6)"
   ]
  }
 ],
 "metadata": {
  "kernelspec": {
   "display_name": "Python 3 (ipykernel)",
   "language": "python",
   "name": "python3"
  },
  "language_info": {
   "codemirror_mode": {
    "name": "ipython",
    "version": 3
   },
   "file_extension": ".py",
   "mimetype": "text/x-python",
   "name": "python",
   "nbconvert_exporter": "python",
   "pygments_lexer": "ipython3",
   "version": "3.8.10"
  }
 },
 "nbformat": 4,
 "nbformat_minor": 5
}
