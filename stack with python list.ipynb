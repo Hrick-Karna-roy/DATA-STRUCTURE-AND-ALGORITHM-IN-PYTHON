{
 "cells": [
  {
   "cell_type": "markdown",
   "id": "70883bf3",
   "metadata": {},
   "source": [
    "this is a stack data structure implemented by list\n",
    "\n",
    "**operations**\n",
    "* isempty\n",
    "* push\n",
    "* pop\n",
    "* peek"
   ]
  },
  {
   "cell_type": "code",
   "execution_count": 12,
   "id": "c07c8b1b",
   "metadata": {},
   "outputs": [
    {
     "name": "stdout",
     "output_type": "stream",
     "text": [
      "the list is empty\n",
      "[1]\n",
      "[1, 2]\n",
      "[1]\n",
      "1\n"
     ]
    }
   ],
   "source": [
    "class stack:\n",
    "    \n",
    "    def __init__(self):\n",
    "        self.list = []\n",
    "    \n",
    "    def isempty(self):\n",
    "        if self.list == []:\n",
    "            return print(\"the list is empty\")\n",
    "        else:\n",
    "            False\n",
    "    \n",
    "    def push(self,value):\n",
    "        self.list.append(value)\n",
    "        \n",
    "    def pop(self):\n",
    "        self.list.pop()\n",
    "        \n",
    "    def peek(self):\n",
    "        return print(self.list[len(self.list)-1])\n",
    "    \n",
    "    \n",
    "    \n",
    "customstack = stack()\n",
    "customstack.isempty()\n",
    "customstack.push(1)\n",
    "print(customstack.list)\n",
    "customstack.push(2)\n",
    "print(customstack.list)\n",
    "customstack.pop()\n",
    "print(customstack.list)\n",
    "customstack.peek()"
   ]
  }
 ],
 "metadata": {
  "kernelspec": {
   "display_name": "Python 3 (ipykernel)",
   "language": "python",
   "name": "python3"
  },
  "language_info": {
   "codemirror_mode": {
    "name": "ipython",
    "version": 3
   },
   "file_extension": ".py",
   "mimetype": "text/x-python",
   "name": "python",
   "nbconvert_exporter": "python",
   "pygments_lexer": "ipython3",
   "version": "3.8.10"
  }
 },
 "nbformat": 4,
 "nbformat_minor": 5
}
